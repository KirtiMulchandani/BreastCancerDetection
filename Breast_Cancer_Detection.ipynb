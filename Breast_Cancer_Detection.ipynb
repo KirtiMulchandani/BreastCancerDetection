{
  "nbformat": 4,
  "nbformat_minor": 0,
  "metadata": {
    "colab": {
      "name": "Breast_Cancer_Detection.ipynb",
      "provenance": [],
      "collapsed_sections": []
    },
    "kernelspec": {
      "name": "python3",
      "display_name": "Python 3"
    },
    "language_info": {
      "name": "python"
    }
  },
  "cells": [
    {
      "cell_type": "markdown",
      "metadata": {
        "id": "hNIVGVXwbudy"
      },
      "source": [
        "## Importing the libraries"
      ]
    },
    {
      "cell_type": "code",
      "metadata": {
        "id": "9h9VwWrbhEDP"
      },
      "source": [
        "import pandas as pd\n",
        "import numpy as np\n",
        "\n",
        "from sklearn.datasets import load_breast_cancer\n",
        "from sklearn.preprocessing import StandardScaler\n",
        "\n",
        "from keras.models import Sequential\n",
        "from keras.layers import Dense"
      ],
      "execution_count": 1,
      "outputs": []
    },
    {
      "cell_type": "markdown",
      "metadata": {
        "id": "WZUUJcj-b06U"
      },
      "source": [
        "## Loading the dataset"
      ]
    },
    {
      "cell_type": "code",
      "metadata": {
        "id": "PKJ7JWdAmtg8"
      },
      "source": [
        "data = load_breast_cancer()"
      ],
      "execution_count": 2,
      "outputs": []
    },
    {
      "cell_type": "markdown",
      "metadata": {
        "id": "skCDI1adcNWx"
      },
      "source": [
        "## Checking for keys/columns of the dataset"
      ]
    },
    {
      "cell_type": "code",
      "metadata": {
        "id": "epdBTC-im4Rb",
        "colab": {
          "base_uri": "https://localhost:8080/"
        },
        "outputId": "3c2ed33c-dd9f-4bfa-e0fa-a11930dc1bf0"
      },
      "source": [
        "data.keys()"
      ],
      "execution_count": 3,
      "outputs": [
        {
          "output_type": "execute_result",
          "data": {
            "text/plain": [
              "dict_keys(['data', 'target', 'target_names', 'DESCR', 'feature_names', 'filename'])"
            ]
          },
          "metadata": {},
          "execution_count": 3
        }
      ]
    },
    {
      "cell_type": "code",
      "metadata": {
        "id": "Iv9QGESOm6ni",
        "colab": {
          "base_uri": "https://localhost:8080/"
        },
        "outputId": "5407f040-886d-4b7d-eccd-c2a42f2d07eb"
      },
      "source": [
        "print(data['DESCR'])"
      ],
      "execution_count": 4,
      "outputs": [
        {
          "output_type": "stream",
          "name": "stdout",
          "text": [
            ".. _breast_cancer_dataset:\n",
            "\n",
            "Breast cancer wisconsin (diagnostic) dataset\n",
            "--------------------------------------------\n",
            "\n",
            "**Data Set Characteristics:**\n",
            "\n",
            "    :Number of Instances: 569\n",
            "\n",
            "    :Number of Attributes: 30 numeric, predictive attributes and the class\n",
            "\n",
            "    :Attribute Information:\n",
            "        - radius (mean of distances from center to points on the perimeter)\n",
            "        - texture (standard deviation of gray-scale values)\n",
            "        - perimeter\n",
            "        - area\n",
            "        - smoothness (local variation in radius lengths)\n",
            "        - compactness (perimeter^2 / area - 1.0)\n",
            "        - concavity (severity of concave portions of the contour)\n",
            "        - concave points (number of concave portions of the contour)\n",
            "        - symmetry \n",
            "        - fractal dimension (\"coastline approximation\" - 1)\n",
            "\n",
            "        The mean, standard error, and \"worst\" or largest (mean of the three\n",
            "        largest values) of these features were computed for each image,\n",
            "        resulting in 30 features.  For instance, field 3 is Mean Radius, field\n",
            "        13 is Radius SE, field 23 is Worst Radius.\n",
            "\n",
            "        - class:\n",
            "                - WDBC-Malignant\n",
            "                - WDBC-Benign\n",
            "\n",
            "    :Summary Statistics:\n",
            "\n",
            "    ===================================== ====== ======\n",
            "                                           Min    Max\n",
            "    ===================================== ====== ======\n",
            "    radius (mean):                        6.981  28.11\n",
            "    texture (mean):                       9.71   39.28\n",
            "    perimeter (mean):                     43.79  188.5\n",
            "    area (mean):                          143.5  2501.0\n",
            "    smoothness (mean):                    0.053  0.163\n",
            "    compactness (mean):                   0.019  0.345\n",
            "    concavity (mean):                     0.0    0.427\n",
            "    concave points (mean):                0.0    0.201\n",
            "    symmetry (mean):                      0.106  0.304\n",
            "    fractal dimension (mean):             0.05   0.097\n",
            "    radius (standard error):              0.112  2.873\n",
            "    texture (standard error):             0.36   4.885\n",
            "    perimeter (standard error):           0.757  21.98\n",
            "    area (standard error):                6.802  542.2\n",
            "    smoothness (standard error):          0.002  0.031\n",
            "    compactness (standard error):         0.002  0.135\n",
            "    concavity (standard error):           0.0    0.396\n",
            "    concave points (standard error):      0.0    0.053\n",
            "    symmetry (standard error):            0.008  0.079\n",
            "    fractal dimension (standard error):   0.001  0.03\n",
            "    radius (worst):                       7.93   36.04\n",
            "    texture (worst):                      12.02  49.54\n",
            "    perimeter (worst):                    50.41  251.2\n",
            "    area (worst):                         185.2  4254.0\n",
            "    smoothness (worst):                   0.071  0.223\n",
            "    compactness (worst):                  0.027  1.058\n",
            "    concavity (worst):                    0.0    1.252\n",
            "    concave points (worst):               0.0    0.291\n",
            "    symmetry (worst):                     0.156  0.664\n",
            "    fractal dimension (worst):            0.055  0.208\n",
            "    ===================================== ====== ======\n",
            "\n",
            "    :Missing Attribute Values: None\n",
            "\n",
            "    :Class Distribution: 212 - Malignant, 357 - Benign\n",
            "\n",
            "    :Creator:  Dr. William H. Wolberg, W. Nick Street, Olvi L. Mangasarian\n",
            "\n",
            "    :Donor: Nick Street\n",
            "\n",
            "    :Date: November, 1995\n",
            "\n",
            "This is a copy of UCI ML Breast Cancer Wisconsin (Diagnostic) datasets.\n",
            "https://goo.gl/U2Uwz2\n",
            "\n",
            "Features are computed from a digitized image of a fine needle\n",
            "aspirate (FNA) of a breast mass.  They describe\n",
            "characteristics of the cell nuclei present in the image.\n",
            "\n",
            "Separating plane described above was obtained using\n",
            "Multisurface Method-Tree (MSM-T) [K. P. Bennett, \"Decision Tree\n",
            "Construction Via Linear Programming.\" Proceedings of the 4th\n",
            "Midwest Artificial Intelligence and Cognitive Science Society,\n",
            "pp. 97-101, 1992], a classification method which uses linear\n",
            "programming to construct a decision tree.  Relevant features\n",
            "were selected using an exhaustive search in the space of 1-4\n",
            "features and 1-3 separating planes.\n",
            "\n",
            "The actual linear program used to obtain the separating plane\n",
            "in the 3-dimensional space is that described in:\n",
            "[K. P. Bennett and O. L. Mangasarian: \"Robust Linear\n",
            "Programming Discrimination of Two Linearly Inseparable Sets\",\n",
            "Optimization Methods and Software 1, 1992, 23-34].\n",
            "\n",
            "This database is also available through the UW CS ftp server:\n",
            "\n",
            "ftp ftp.cs.wisc.edu\n",
            "cd math-prog/cpo-dataset/machine-learn/WDBC/\n",
            "\n",
            ".. topic:: References\n",
            "\n",
            "   - W.N. Street, W.H. Wolberg and O.L. Mangasarian. Nuclear feature extraction \n",
            "     for breast tumor diagnosis. IS&T/SPIE 1993 International Symposium on \n",
            "     Electronic Imaging: Science and Technology, volume 1905, pages 861-870,\n",
            "     San Jose, CA, 1993.\n",
            "   - O.L. Mangasarian, W.N. Street and W.H. Wolberg. Breast cancer diagnosis and \n",
            "     prognosis via linear programming. Operations Research, 43(4), pages 570-577, \n",
            "     July-August 1995.\n",
            "   - W.H. Wolberg, W.N. Street, and O.L. Mangasarian. Machine learning techniques\n",
            "     to diagnose breast cancer from fine-needle aspirates. Cancer Letters 77 (1994) \n",
            "     163-171.\n"
          ]
        }
      ]
    },
    {
      "cell_type": "code",
      "metadata": {
        "id": "LD9ptFjvnuyz",
        "colab": {
          "base_uri": "https://localhost:8080/"
        },
        "outputId": "8f433dcb-aba5-4b0d-b1c9-cec9cd855c72"
      },
      "source": [
        "data['data'].shape"
      ],
      "execution_count": 5,
      "outputs": [
        {
          "output_type": "execute_result",
          "data": {
            "text/plain": [
              "(569, 30)"
            ]
          },
          "metadata": {},
          "execution_count": 5
        }
      ]
    },
    {
      "cell_type": "code",
      "metadata": {
        "id": "gIOjFb1ypLqB",
        "colab": {
          "base_uri": "https://localhost:8080/"
        },
        "outputId": "51dc5bc5-175a-4e9c-d544-d141c0f0d080"
      },
      "source": [
        "data['feature_names']"
      ],
      "execution_count": 6,
      "outputs": [
        {
          "output_type": "execute_result",
          "data": {
            "text/plain": [
              "array(['mean radius', 'mean texture', 'mean perimeter', 'mean area',\n",
              "       'mean smoothness', 'mean compactness', 'mean concavity',\n",
              "       'mean concave points', 'mean symmetry', 'mean fractal dimension',\n",
              "       'radius error', 'texture error', 'perimeter error', 'area error',\n",
              "       'smoothness error', 'compactness error', 'concavity error',\n",
              "       'concave points error', 'symmetry error',\n",
              "       'fractal dimension error', 'worst radius', 'worst texture',\n",
              "       'worst perimeter', 'worst area', 'worst smoothness',\n",
              "       'worst compactness', 'worst concavity', 'worst concave points',\n",
              "       'worst symmetry', 'worst fractal dimension'], dtype='<U23')"
            ]
          },
          "metadata": {},
          "execution_count": 6
        }
      ]
    },
    {
      "cell_type": "code",
      "metadata": {
        "id": "_Or3hS_KpeR0",
        "colab": {
          "base_uri": "https://localhost:8080/"
        },
        "outputId": "7718b709-b0a4-4332-d63d-173d317a351d"
      },
      "source": [
        "data['data'][0]"
      ],
      "execution_count": 7,
      "outputs": [
        {
          "output_type": "execute_result",
          "data": {
            "text/plain": [
              "array([1.799e+01, 1.038e+01, 1.228e+02, 1.001e+03, 1.184e-01, 2.776e-01,\n",
              "       3.001e-01, 1.471e-01, 2.419e-01, 7.871e-02, 1.095e+00, 9.053e-01,\n",
              "       8.589e+00, 1.534e+02, 6.399e-03, 4.904e-02, 5.373e-02, 1.587e-02,\n",
              "       3.003e-02, 6.193e-03, 2.538e+01, 1.733e+01, 1.846e+02, 2.019e+03,\n",
              "       1.622e-01, 6.656e-01, 7.119e-01, 2.654e-01, 4.601e-01, 1.189e-01])"
            ]
          },
          "metadata": {},
          "execution_count": 7
        }
      ]
    },
    {
      "cell_type": "code",
      "metadata": {
        "id": "66RDgPoPpkDH",
        "colab": {
          "base_uri": "https://localhost:8080/"
        },
        "outputId": "a9ab2efa-a201-4fd7-d260-10dc0e4dd2ee"
      },
      "source": [
        "j = 0\n",
        "for i in data['feature_names']:\n",
        "  print(i,\":\",data['data'][0][j])\n",
        "  j+=1"
      ],
      "execution_count": 8,
      "outputs": [
        {
          "output_type": "stream",
          "name": "stdout",
          "text": [
            "mean radius : 17.99\n",
            "mean texture : 10.38\n",
            "mean perimeter : 122.8\n",
            "mean area : 1001.0\n",
            "mean smoothness : 0.1184\n",
            "mean compactness : 0.2776\n",
            "mean concavity : 0.3001\n",
            "mean concave points : 0.1471\n",
            "mean symmetry : 0.2419\n",
            "mean fractal dimension : 0.07871\n",
            "radius error : 1.095\n",
            "texture error : 0.9053\n",
            "perimeter error : 8.589\n",
            "area error : 153.4\n",
            "smoothness error : 0.006399\n",
            "compactness error : 0.04904\n",
            "concavity error : 0.05373\n",
            "concave points error : 0.01587\n",
            "symmetry error : 0.03003\n",
            "fractal dimension error : 0.006193\n",
            "worst radius : 25.38\n",
            "worst texture : 17.33\n",
            "worst perimeter : 184.6\n",
            "worst area : 2019.0\n",
            "worst smoothness : 0.1622\n",
            "worst compactness : 0.6656\n",
            "worst concavity : 0.7119\n",
            "worst concave points : 0.2654\n",
            "worst symmetry : 0.4601\n",
            "worst fractal dimension : 0.1189\n"
          ]
        }
      ]
    },
    {
      "cell_type": "code",
      "metadata": {
        "id": "Nzk4dIoOqu1t"
      },
      "source": [
        "feature = data['data']"
      ],
      "execution_count": 9,
      "outputs": []
    },
    {
      "cell_type": "code",
      "metadata": {
        "id": "KqwgdGdzp0ZX"
      },
      "source": [
        "label = data['target']"
      ],
      "execution_count": 10,
      "outputs": []
    },
    {
      "cell_type": "code",
      "metadata": {
        "id": "UmP62MQWqiK1",
        "colab": {
          "base_uri": "https://localhost:8080/"
        },
        "outputId": "d72af932-8849-4cc2-ded3-c432f38c0317"
      },
      "source": [
        "data['target_names']"
      ],
      "execution_count": 11,
      "outputs": [
        {
          "output_type": "execute_result",
          "data": {
            "text/plain": [
              "array(['malignant', 'benign'], dtype='<U9')"
            ]
          },
          "metadata": {},
          "execution_count": 11
        }
      ]
    },
    {
      "cell_type": "code",
      "metadata": {
        "id": "apyfDrfeqnC1",
        "colab": {
          "base_uri": "https://localhost:8080/"
        },
        "outputId": "9d2e311f-031e-444b-f19c-779eb99cf262"
      },
      "source": [
        "feature.shape"
      ],
      "execution_count": 12,
      "outputs": [
        {
          "output_type": "execute_result",
          "data": {
            "text/plain": [
              "(569, 30)"
            ]
          },
          "metadata": {},
          "execution_count": 12
        }
      ]
    },
    {
      "cell_type": "code",
      "metadata": {
        "id": "Kn1TAFLfsQBc",
        "colab": {
          "base_uri": "https://localhost:8080/"
        },
        "outputId": "3cd86494-1fea-4b33-a07d-1b46db47de89"
      },
      "source": [
        "label.shape"
      ],
      "execution_count": 13,
      "outputs": [
        {
          "output_type": "execute_result",
          "data": {
            "text/plain": [
              "(569,)"
            ]
          },
          "metadata": {},
          "execution_count": 13
        }
      ]
    },
    {
      "cell_type": "code",
      "metadata": {
        "id": "LoUal6dDsr0T"
      },
      "source": [
        "scale = StandardScaler()\n",
        "\n",
        "feature = scale.fit_transform(feature)"
      ],
      "execution_count": 14,
      "outputs": []
    },
    {
      "cell_type": "code",
      "metadata": {
        "id": "r_FOyQMHt8PT",
        "colab": {
          "base_uri": "https://localhost:8080/"
        },
        "outputId": "c68b21f2-9d84-4dae-9fe1-e32ed44a0777"
      },
      "source": [
        "j = 0\n",
        "for i in data['feature_names']:\n",
        "  print(i,\":\",feature[0][j])\n",
        "  j+=1"
      ],
      "execution_count": 15,
      "outputs": [
        {
          "output_type": "stream",
          "name": "stdout",
          "text": [
            "mean radius : 1.0970639814699807\n",
            "mean texture : -2.0733350146975935\n",
            "mean perimeter : 1.2699336881399383\n",
            "mean area : 0.9843749048031144\n",
            "mean smoothness : 1.568466329243428\n",
            "mean compactness : 3.2835146709868264\n",
            "mean concavity : 2.652873983743168\n",
            "mean concave points : 2.532475216403245\n",
            "mean symmetry : 2.2175150059646405\n",
            "mean fractal dimension : 2.255746885296269\n",
            "radius error : 2.4897339267376193\n",
            "texture error : -0.5652650590684639\n",
            "perimeter error : 2.833030865855184\n",
            "area error : 2.4875775569611043\n",
            "smoothness error : -0.21400164666895383\n",
            "compactness error : 1.3168615683959484\n",
            "concavity error : 0.72402615808036\n",
            "concave points error : 0.6608199414286064\n",
            "symmetry error : 1.1487566671861758\n",
            "fractal dimension error : 0.9070830809973359\n",
            "worst radius : 1.8866896251792757\n",
            "worst texture : -1.3592934737640827\n",
            "worst perimeter : 2.3036006236225606\n",
            "worst area : 2.0012374893299207\n",
            "worst smoothness : 1.3076862710715387\n",
            "worst compactness : 2.616665023512603\n",
            "worst concavity : 2.1095263465722556\n",
            "worst concave points : 2.296076127561788\n",
            "worst symmetry : 2.750622244124955\n",
            "worst fractal dimension : 1.9370146123781782\n"
          ]
        }
      ]
    },
    {
      "cell_type": "code",
      "metadata": {
        "id": "AKKH4JKKuRTt",
        "colab": {
          "base_uri": "https://localhost:8080/"
        },
        "outputId": "5e3ae2e3-4dff-499c-9ad6-35e870dc7d14"
      },
      "source": [
        "print(feature[568])\n",
        "print(data['target_names'][label[568]],label[568])\n"
      ],
      "execution_count": 16,
      "outputs": [
        {
          "output_type": "stream",
          "name": "stdout",
          "text": [
            "[-1.80840125  1.22179204 -1.81438851 -1.34778924 -3.11208479 -1.15075248\n",
            " -1.11487284 -1.26181958 -0.8200699  -0.56103238 -0.07027874  0.3830925\n",
            " -0.15744905 -0.46615196  0.04934236 -1.16351619 -1.05750068 -1.91344745\n",
            "  0.75282996 -0.382754   -1.41089258  0.76418957 -1.43273495 -1.07581292\n",
            " -1.85901852 -1.2075525  -1.30583065 -1.74506282 -0.04813821 -0.75120669]\n",
            "benign 1\n"
          ]
        }
      ]
    },
    {
      "cell_type": "code",
      "metadata": {
        "id": "Ms1YidTfusxT"
      },
      "source": [
        "df_frt = pd.DataFrame(feature , columns = data['feature_names'])\n",
        "df_lbl = pd.DataFrame(label , columns = ['label'])\n",
        "df = pd.concat([df_frt, df_lbl], axis=1)\n",
        "df = df.sample(frac = 1)\n",
        "\n",
        "feature = df.values[ : , : 30]\n",
        "label = df.values[ : ,30: ]"
      ],
      "execution_count": 17,
      "outputs": []
    },
    {
      "cell_type": "code",
      "metadata": {
        "id": "70TWMaSt-W4y",
        "colab": {
          "base_uri": "https://localhost:8080/",
          "height": 473
        },
        "outputId": "039b06b2-2cc3-461e-a4f3-b6b0970eed5c"
      },
      "source": [
        "df"
      ],
      "execution_count": 18,
      "outputs": [
        {
          "output_type": "execute_result",
          "data": {
            "text/html": [
              "<div>\n",
              "<style scoped>\n",
              "    .dataframe tbody tr th:only-of-type {\n",
              "        vertical-align: middle;\n",
              "    }\n",
              "\n",
              "    .dataframe tbody tr th {\n",
              "        vertical-align: top;\n",
              "    }\n",
              "\n",
              "    .dataframe thead th {\n",
              "        text-align: right;\n",
              "    }\n",
              "</style>\n",
              "<table border=\"1\" class=\"dataframe\">\n",
              "  <thead>\n",
              "    <tr style=\"text-align: right;\">\n",
              "      <th></th>\n",
              "      <th>mean radius</th>\n",
              "      <th>mean texture</th>\n",
              "      <th>mean perimeter</th>\n",
              "      <th>mean area</th>\n",
              "      <th>mean smoothness</th>\n",
              "      <th>mean compactness</th>\n",
              "      <th>mean concavity</th>\n",
              "      <th>mean concave points</th>\n",
              "      <th>mean symmetry</th>\n",
              "      <th>mean fractal dimension</th>\n",
              "      <th>radius error</th>\n",
              "      <th>texture error</th>\n",
              "      <th>perimeter error</th>\n",
              "      <th>area error</th>\n",
              "      <th>smoothness error</th>\n",
              "      <th>compactness error</th>\n",
              "      <th>concavity error</th>\n",
              "      <th>concave points error</th>\n",
              "      <th>symmetry error</th>\n",
              "      <th>fractal dimension error</th>\n",
              "      <th>worst radius</th>\n",
              "      <th>worst texture</th>\n",
              "      <th>worst perimeter</th>\n",
              "      <th>worst area</th>\n",
              "      <th>worst smoothness</th>\n",
              "      <th>worst compactness</th>\n",
              "      <th>worst concavity</th>\n",
              "      <th>worst concave points</th>\n",
              "      <th>worst symmetry</th>\n",
              "      <th>worst fractal dimension</th>\n",
              "      <th>label</th>\n",
              "    </tr>\n",
              "  </thead>\n",
              "  <tbody>\n",
              "    <tr>\n",
              "      <th>138</th>\n",
              "      <td>0.233661</td>\n",
              "      <td>-0.400174</td>\n",
              "      <td>0.201048</td>\n",
              "      <td>0.066014</td>\n",
              "      <td>1.447485</td>\n",
              "      <td>0.495752</td>\n",
              "      <td>0.817337</td>\n",
              "      <td>0.962653</td>\n",
              "      <td>0.530779</td>\n",
              "      <td>-0.090388</td>\n",
              "      <td>3.215185</td>\n",
              "      <td>0.426637</td>\n",
              "      <td>2.748876</td>\n",
              "      <td>1.354490</td>\n",
              "      <td>0.986380</td>\n",
              "      <td>0.520995</td>\n",
              "      <td>1.123237</td>\n",
              "      <td>2.630045</td>\n",
              "      <td>3.770106</td>\n",
              "      <td>-0.343416</td>\n",
              "      <td>0.472316</td>\n",
              "      <td>-0.691634</td>\n",
              "      <td>0.421136</td>\n",
              "      <td>0.159648</td>\n",
              "      <td>0.382749</td>\n",
              "      <td>-0.240875</td>\n",
              "      <td>0.303738</td>\n",
              "      <td>0.793211</td>\n",
              "      <td>0.830317</td>\n",
              "      <td>-0.691358</td>\n",
              "      <td>0</td>\n",
              "    </tr>\n",
              "    <tr>\n",
              "      <th>337</th>\n",
              "      <td>1.318595</td>\n",
              "      <td>0.498074</td>\n",
              "      <td>1.274053</td>\n",
              "      <td>1.243188</td>\n",
              "      <td>-0.370080</td>\n",
              "      <td>0.679581</td>\n",
              "      <td>0.215954</td>\n",
              "      <td>0.309034</td>\n",
              "      <td>0.516175</td>\n",
              "      <td>-0.278929</td>\n",
              "      <td>0.855484</td>\n",
              "      <td>0.568156</td>\n",
              "      <td>0.744002</td>\n",
              "      <td>1.054166</td>\n",
              "      <td>0.169014</td>\n",
              "      <td>0.754054</td>\n",
              "      <td>0.240265</td>\n",
              "      <td>1.032280</td>\n",
              "      <td>0.137751</td>\n",
              "      <td>0.245900</td>\n",
              "      <td>1.712740</td>\n",
              "      <td>1.415565</td>\n",
              "      <td>1.603633</td>\n",
              "      <td>1.744582</td>\n",
              "      <td>0.764121</td>\n",
              "      <td>1.453165</td>\n",
              "      <td>0.917342</td>\n",
              "      <td>1.373344</td>\n",
              "      <td>1.259029</td>\n",
              "      <td>0.817615</td>\n",
              "      <td>0</td>\n",
              "    </tr>\n",
              "    <tr>\n",
              "      <th>330</th>\n",
              "      <td>0.540396</td>\n",
              "      <td>-0.879550</td>\n",
              "      <td>0.569700</td>\n",
              "      <td>0.393370</td>\n",
              "      <td>-0.103210</td>\n",
              "      <td>0.620832</td>\n",
              "      <td>0.396746</td>\n",
              "      <td>0.554335</td>\n",
              "      <td>-0.108136</td>\n",
              "      <td>-0.430613</td>\n",
              "      <td>-0.245686</td>\n",
              "      <td>-0.851387</td>\n",
              "      <td>-0.117352</td>\n",
              "      <td>-0.155488</td>\n",
              "      <td>-0.400676</td>\n",
              "      <td>0.389654</td>\n",
              "      <td>0.174283</td>\n",
              "      <td>0.453192</td>\n",
              "      <td>-0.711009</td>\n",
              "      <td>-0.254905</td>\n",
              "      <td>0.515803</td>\n",
              "      <td>-0.602070</td>\n",
              "      <td>0.507515</td>\n",
              "      <td>0.332978</td>\n",
              "      <td>0.487955</td>\n",
              "      <td>1.231153</td>\n",
              "      <td>1.071822</td>\n",
              "      <td>1.271326</td>\n",
              "      <td>0.191293</td>\n",
              "      <td>0.404213</td>\n",
              "      <td>0</td>\n",
              "    </tr>\n",
              "    <tr>\n",
              "      <th>498</th>\n",
              "      <td>1.239071</td>\n",
              "      <td>-0.411809</td>\n",
              "      <td>1.208148</td>\n",
              "      <td>1.174930</td>\n",
              "      <td>0.344421</td>\n",
              "      <td>0.518494</td>\n",
              "      <td>0.757073</td>\n",
              "      <td>1.106842</td>\n",
              "      <td>0.074411</td>\n",
              "      <td>0.591480</td>\n",
              "      <td>1.397226</td>\n",
              "      <td>-0.311801</td>\n",
              "      <td>0.982606</td>\n",
              "      <td>1.219619</td>\n",
              "      <td>0.311020</td>\n",
              "      <td>0.372328</td>\n",
              "      <td>0.413013</td>\n",
              "      <td>0.638111</td>\n",
              "      <td>-0.529391</td>\n",
              "      <td>0.552283</td>\n",
              "      <td>1.342063</td>\n",
              "      <td>-0.455510</td>\n",
              "      <td>1.165782</td>\n",
              "      <td>1.264672</td>\n",
              "      <td>0.387133</td>\n",
              "      <td>0.347555</td>\n",
              "      <td>0.389134</td>\n",
              "      <td>0.787120</td>\n",
              "      <td>-0.632157</td>\n",
              "      <td>0.582098</td>\n",
              "      <td>0</td>\n",
              "    </tr>\n",
              "    <tr>\n",
              "      <th>55</th>\n",
              "      <td>-0.740508</td>\n",
              "      <td>-0.125580</td>\n",
              "      <td>-0.767334</td>\n",
              "      <td>-0.699334</td>\n",
              "      <td>-0.079725</td>\n",
              "      <td>-0.940202</td>\n",
              "      <td>-0.733704</td>\n",
              "      <td>-0.674233</td>\n",
              "      <td>0.395694</td>\n",
              "      <td>-0.528427</td>\n",
              "      <td>-0.289719</td>\n",
              "      <td>-0.467653</td>\n",
              "      <td>-0.338135</td>\n",
              "      <td>-0.371105</td>\n",
              "      <td>0.429024</td>\n",
              "      <td>-0.936493</td>\n",
              "      <td>-0.610212</td>\n",
              "      <td>-0.507090</td>\n",
              "      <td>1.409075</td>\n",
              "      <td>-0.532920</td>\n",
              "      <td>-0.710125</td>\n",
              "      <td>-0.522276</td>\n",
              "      <td>-0.758086</td>\n",
              "      <td>-0.658133</td>\n",
              "      <td>-0.327392</td>\n",
              "      <td>-1.062767</td>\n",
              "      <td>-0.870407</td>\n",
              "      <td>-0.783351</td>\n",
              "      <td>0.655596</td>\n",
              "      <td>-0.752869</td>\n",
              "      <td>1</td>\n",
              "    </tr>\n",
              "    <tr>\n",
              "      <th>...</th>\n",
              "      <td>...</td>\n",
              "      <td>...</td>\n",
              "      <td>...</td>\n",
              "      <td>...</td>\n",
              "      <td>...</td>\n",
              "      <td>...</td>\n",
              "      <td>...</td>\n",
              "      <td>...</td>\n",
              "      <td>...</td>\n",
              "      <td>...</td>\n",
              "      <td>...</td>\n",
              "      <td>...</td>\n",
              "      <td>...</td>\n",
              "      <td>...</td>\n",
              "      <td>...</td>\n",
              "      <td>...</td>\n",
              "      <td>...</td>\n",
              "      <td>...</td>\n",
              "      <td>...</td>\n",
              "      <td>...</td>\n",
              "      <td>...</td>\n",
              "      <td>...</td>\n",
              "      <td>...</td>\n",
              "      <td>...</td>\n",
              "      <td>...</td>\n",
              "      <td>...</td>\n",
              "      <td>...</td>\n",
              "      <td>...</td>\n",
              "      <td>...</td>\n",
              "      <td>...</td>\n",
              "      <td>...</td>\n",
              "    </tr>\n",
              "    <tr>\n",
              "      <th>11</th>\n",
              "      <td>0.469393</td>\n",
              "      <td>-0.325708</td>\n",
              "      <td>0.479082</td>\n",
              "      <td>0.358672</td>\n",
              "      <td>0.052642</td>\n",
              "      <td>0.471115</td>\n",
              "      <td>0.134849</td>\n",
              "      <td>0.442131</td>\n",
              "      <td>0.110921</td>\n",
              "      <td>-0.280347</td>\n",
              "      <td>0.363187</td>\n",
              "      <td>-0.420843</td>\n",
              "      <td>0.345502</td>\n",
              "      <td>0.304128</td>\n",
              "      <td>-0.423343</td>\n",
              "      <td>0.845713</td>\n",
              "      <td>-0.132088</td>\n",
              "      <td>0.166080</td>\n",
              "      <td>-0.055974</td>\n",
              "      <td>0.132046</td>\n",
              "      <td>0.859560</td>\n",
              "      <td>0.261002</td>\n",
              "      <td>0.870902</td>\n",
              "      <td>0.735540</td>\n",
              "      <td>0.316995</td>\n",
              "      <td>1.950627</td>\n",
              "      <td>0.596387</td>\n",
              "      <td>1.010951</td>\n",
              "      <td>1.441838</td>\n",
              "      <td>1.155652</td>\n",
              "      <td>0</td>\n",
              "    </tr>\n",
              "    <tr>\n",
              "      <th>192</th>\n",
              "      <td>-1.251733</td>\n",
              "      <td>-0.248914</td>\n",
              "      <td>-1.286742</td>\n",
              "      <td>-1.043186</td>\n",
              "      <td>-1.911524</td>\n",
              "      <td>-1.533193</td>\n",
              "      <td>-1.114873</td>\n",
              "      <td>-1.261820</td>\n",
              "      <td>-0.579108</td>\n",
              "      <td>0.237079</td>\n",
              "      <td>-0.185052</td>\n",
              "      <td>6.655279</td>\n",
              "      <td>-0.314869</td>\n",
              "      <td>-0.410268</td>\n",
              "      <td>-1.776065</td>\n",
              "      <td>-1.047490</td>\n",
              "      <td>-1.057501</td>\n",
              "      <td>-1.913447</td>\n",
              "      <td>2.112542</td>\n",
              "      <td>-0.796939</td>\n",
              "      <td>-1.304866</td>\n",
              "      <td>-0.789340</td>\n",
              "      <td>-1.340697</td>\n",
              "      <td>-1.013934</td>\n",
              "      <td>-2.682695</td>\n",
              "      <td>-1.443878</td>\n",
              "      <td>-1.305831</td>\n",
              "      <td>-1.745063</td>\n",
              "      <td>-1.604443</td>\n",
              "      <td>-1.017203</td>\n",
              "      <td>1</td>\n",
              "    </tr>\n",
              "    <tr>\n",
              "      <th>370</th>\n",
              "      <td>0.631281</td>\n",
              "      <td>0.930909</td>\n",
              "      <td>0.701509</td>\n",
              "      <td>0.527612</td>\n",
              "      <td>0.075415</td>\n",
              "      <td>0.859620</td>\n",
              "      <td>1.158832</td>\n",
              "      <td>1.001086</td>\n",
              "      <td>1.326685</td>\n",
              "      <td>-0.087553</td>\n",
              "      <td>0.093940</td>\n",
              "      <td>-0.353531</td>\n",
              "      <td>0.052444</td>\n",
              "      <td>0.113593</td>\n",
              "      <td>-0.468679</td>\n",
              "      <td>0.765232</td>\n",
              "      <td>0.955794</td>\n",
              "      <td>0.772745</td>\n",
              "      <td>1.383649</td>\n",
              "      <td>0.109729</td>\n",
              "      <td>0.644194</td>\n",
              "      <td>0.871666</td>\n",
              "      <td>0.656444</td>\n",
              "      <td>0.499980</td>\n",
              "      <td>0.400283</td>\n",
              "      <td>1.350111</td>\n",
              "      <td>2.094174</td>\n",
              "      <td>1.677876</td>\n",
              "      <td>3.111387</td>\n",
              "      <td>0.675751</td>\n",
              "      <td>0</td>\n",
              "    </tr>\n",
              "    <tr>\n",
              "      <th>226</th>\n",
              "      <td>-1.047243</td>\n",
              "      <td>-0.891185</td>\n",
              "      <td>-1.044132</td>\n",
              "      <td>-0.925156</td>\n",
              "      <td>0.636199</td>\n",
              "      <td>-0.513983</td>\n",
              "      <td>-1.031470</td>\n",
              "      <td>-0.948165</td>\n",
              "      <td>-0.086230</td>\n",
              "      <td>0.241332</td>\n",
              "      <td>-0.771909</td>\n",
              "      <td>-0.569982</td>\n",
              "      <td>-0.820790</td>\n",
              "      <td>-0.626544</td>\n",
              "      <td>-0.176000</td>\n",
              "      <td>-0.973436</td>\n",
              "      <td>-0.964097</td>\n",
              "      <td>-1.106941</td>\n",
              "      <td>-0.668632</td>\n",
              "      <td>-0.368380</td>\n",
              "      <td>-0.983474</td>\n",
              "      <td>-0.957069</td>\n",
              "      <td>-1.006500</td>\n",
              "      <td>-0.852910</td>\n",
              "      <td>0.075898</td>\n",
              "      <td>-0.884012</td>\n",
              "      <td>-1.179224</td>\n",
              "      <td>-1.065348</td>\n",
              "      <td>-0.462290</td>\n",
              "      <td>-0.069592</td>\n",
              "      <td>1</td>\n",
              "    </tr>\n",
              "    <tr>\n",
              "      <th>385</th>\n",
              "      <td>0.134256</td>\n",
              "      <td>0.930909</td>\n",
              "      <td>0.082420</td>\n",
              "      <td>0.027903</td>\n",
              "      <td>-0.678938</td>\n",
              "      <td>-0.719796</td>\n",
              "      <td>-0.061511</td>\n",
              "      <td>0.097781</td>\n",
              "      <td>-0.674032</td>\n",
              "      <td>-1.224471</td>\n",
              "      <td>0.037998</td>\n",
              "      <td>0.744147</td>\n",
              "      <td>0.023732</td>\n",
              "      <td>-0.161208</td>\n",
              "      <td>0.423691</td>\n",
              "      <td>-0.450366</td>\n",
              "      <td>0.066191</td>\n",
              "      <td>0.642977</td>\n",
              "      <td>-0.380465</td>\n",
              "      <td>-0.349468</td>\n",
              "      <td>-0.099232</td>\n",
              "      <td>0.982400</td>\n",
              "      <td>-0.150752</td>\n",
              "      <td>-0.215139</td>\n",
              "      <td>-0.051226</td>\n",
              "      <td>-0.611744</td>\n",
              "      <td>-0.022493</td>\n",
              "      <td>0.324232</td>\n",
              "      <td>-0.685544</td>\n",
              "      <td>-0.863701</td>\n",
              "      <td>0</td>\n",
              "    </tr>\n",
              "  </tbody>\n",
              "</table>\n",
              "<p>569 rows × 31 columns</p>\n",
              "</div>"
            ],
            "text/plain": [
              "     mean radius  mean texture  ...  worst fractal dimension  label\n",
              "138     0.233661     -0.400174  ...                -0.691358      0\n",
              "337     1.318595      0.498074  ...                 0.817615      0\n",
              "330     0.540396     -0.879550  ...                 0.404213      0\n",
              "498     1.239071     -0.411809  ...                 0.582098      0\n",
              "55     -0.740508     -0.125580  ...                -0.752869      1\n",
              "..           ...           ...  ...                      ...    ...\n",
              "11      0.469393     -0.325708  ...                 1.155652      0\n",
              "192    -1.251733     -0.248914  ...                -1.017203      1\n",
              "370     0.631281      0.930909  ...                 0.675751      0\n",
              "226    -1.047243     -0.891185  ...                -0.069592      1\n",
              "385     0.134256      0.930909  ...                -0.863701      0\n",
              "\n",
              "[569 rows x 31 columns]"
            ]
          },
          "metadata": {},
          "execution_count": 18
        }
      ]
    },
    {
      "cell_type": "markdown",
      "metadata": {
        "id": "vBkqwhDFcY-U"
      },
      "source": [
        "## Spliting the Dataset for training, validation, and testing"
      ]
    },
    {
      "cell_type": "code",
      "metadata": {
        "id": "OwHAshL8wxmf"
      },
      "source": [
        "#500 Training\n",
        "X_train = feature[:500]\n",
        "y_train = label[:500]\n",
        "\n",
        "#35 Validation\n",
        "X_val = feature[500:535]\n",
        "y_val = label[500:535]\n",
        "\n",
        "#34 Testing\n",
        "X_test = feature[535:]\n",
        "y_test = label[535:]"
      ],
      "execution_count": 19,
      "outputs": []
    },
    {
      "cell_type": "code",
      "metadata": {
        "id": "Nzj-pXW1vIJg"
      },
      "source": [
        "model = Sequential()\n",
        "\n",
        "model.add(Dense(32, activation = 'relu', input_dim = 30))\n",
        "model.add(Dense(15, activation = 'relu'))\n",
        "model.add(Dense(1, activation = 'sigmoid'))\n",
        "\n",
        "model.compile( loss = 'binary_crossentropy' , optimizer = 'adam' , metrics = ['accuracy'])"
      ],
      "execution_count": 20,
      "outputs": []
    },
    {
      "cell_type": "code",
      "metadata": {
        "id": "Myowb1aFz353",
        "colab": {
          "base_uri": "https://localhost:8080/"
        },
        "outputId": "6a44a3ac-bc79-49c0-8a5b-e267be933d55"
      },
      "source": [
        "model.fit( X_train , y_train, epochs = 10, batch_size = 5, validation_data = (X_val, y_val))"
      ],
      "execution_count": 21,
      "outputs": [
        {
          "output_type": "stream",
          "name": "stdout",
          "text": [
            "Epoch 1/10\n",
            "100/100 [==============================] - 1s 3ms/step - loss: 0.3436 - accuracy: 0.8880 - val_loss: 0.1496 - val_accuracy: 0.9714\n",
            "Epoch 2/10\n",
            "100/100 [==============================] - 0s 2ms/step - loss: 0.1209 - accuracy: 0.9800 - val_loss: 0.0756 - val_accuracy: 1.0000\n",
            "Epoch 3/10\n",
            "100/100 [==============================] - 0s 2ms/step - loss: 0.0805 - accuracy: 0.9740 - val_loss: 0.0536 - val_accuracy: 1.0000\n",
            "Epoch 4/10\n",
            "100/100 [==============================] - 0s 2ms/step - loss: 0.0661 - accuracy: 0.9800 - val_loss: 0.0427 - val_accuracy: 1.0000\n",
            "Epoch 5/10\n",
            "100/100 [==============================] - 0s 2ms/step - loss: 0.0571 - accuracy: 0.9840 - val_loss: 0.0360 - val_accuracy: 1.0000\n",
            "Epoch 6/10\n",
            "100/100 [==============================] - 0s 2ms/step - loss: 0.0511 - accuracy: 0.9840 - val_loss: 0.0315 - val_accuracy: 1.0000\n",
            "Epoch 7/10\n",
            "100/100 [==============================] - 0s 2ms/step - loss: 0.0463 - accuracy: 0.9860 - val_loss: 0.0311 - val_accuracy: 1.0000\n",
            "Epoch 8/10\n",
            "100/100 [==============================] - 0s 2ms/step - loss: 0.0413 - accuracy: 0.9900 - val_loss: 0.0285 - val_accuracy: 1.0000\n",
            "Epoch 9/10\n",
            "100/100 [==============================] - 0s 2ms/step - loss: 0.0375 - accuracy: 0.9900 - val_loss: 0.0269 - val_accuracy: 1.0000\n",
            "Epoch 10/10\n",
            "100/100 [==============================] - 0s 2ms/step - loss: 0.0349 - accuracy: 0.9920 - val_loss: 0.0243 - val_accuracy: 1.0000\n"
          ]
        },
        {
          "output_type": "execute_result",
          "data": {
            "text/plain": [
              "<keras.callbacks.History at 0x7f6979305450>"
            ]
          },
          "metadata": {},
          "execution_count": 21
        }
      ]
    },
    {
      "cell_type": "markdown",
      "metadata": {
        "id": "pRdTDEfrcrQL"
      },
      "source": [
        "## Testing the Model"
      ]
    },
    {
      "cell_type": "code",
      "metadata": {
        "id": "WjQrOpwc2S03",
        "colab": {
          "base_uri": "https://localhost:8080/"
        },
        "outputId": "8ce25b5c-b96d-45a1-d269-23f76f8a6ac1"
      },
      "source": [
        "model.evaluate(X_test , y_test)"
      ],
      "execution_count": 22,
      "outputs": [
        {
          "output_type": "stream",
          "name": "stdout",
          "text": [
            "2/2 [==============================] - 0s 6ms/step - loss: 0.0920 - accuracy: 0.9412\n"
          ]
        },
        {
          "output_type": "execute_result",
          "data": {
            "text/plain": [
              "[0.09203215688467026, 0.9411764740943909]"
            ]
          },
          "metadata": {},
          "execution_count": 22
        }
      ]
    },
    {
      "cell_type": "code",
      "metadata": {
        "id": "Iw4189HY6bC0",
        "colab": {
          "base_uri": "https://localhost:8080/"
        },
        "outputId": "4aa53440-dedc-470a-aa92-ed4f1441b064"
      },
      "source": [
        "model.evaluate(X_val , y_val)"
      ],
      "execution_count": 23,
      "outputs": [
        {
          "output_type": "stream",
          "name": "stdout",
          "text": [
            "2/2 [==============================] - 0s 6ms/step - loss: 0.0243 - accuracy: 1.0000\n"
          ]
        },
        {
          "output_type": "execute_result",
          "data": {
            "text/plain": [
              "[0.024287046864628792, 1.0]"
            ]
          },
          "metadata": {},
          "execution_count": 23
        }
      ]
    },
    {
      "cell_type": "markdown",
      "metadata": {
        "id": "IsPjucXAcv8B"
      },
      "source": [
        "## Checking whether our model is giving right results or not"
      ]
    },
    {
      "cell_type": "code",
      "metadata": {
        "id": "GVKgag0986kX",
        "colab": {
          "base_uri": "https://localhost:8080/"
        },
        "outputId": "c06fdda7-85de-42bb-84d6-42edac247e94"
      },
      "source": [
        "for i in range(30):\n",
        "  sample = X_test[i]\n",
        "  sample = np.reshape(sample, (1,30))\n",
        "\n",
        "  if (model.predict(sample)[0][0] > 0.5):\n",
        "    print(\"-Benign\")\n",
        "  else:\n",
        "    print(\"-Malignant\")\n",
        "\n",
        "  if (y_test[i] == 1):\n",
        "    print(\"*Banign\")\n",
        "  else:\n",
        "    print(\"*Melignant\")\n",
        "  print(\"-----------\")"
      ],
      "execution_count": 24,
      "outputs": [
        {
          "output_type": "stream",
          "name": "stdout",
          "text": [
            "-Benign\n",
            "*Banign\n",
            "-----------\n",
            "-Malignant\n",
            "*Melignant\n",
            "-----------\n",
            "-Benign\n",
            "*Banign\n",
            "-----------\n",
            "-Benign\n",
            "*Banign\n",
            "-----------\n",
            "-Malignant\n",
            "*Banign\n",
            "-----------\n",
            "-Benign\n",
            "*Banign\n",
            "-----------\n",
            "-Benign\n",
            "*Banign\n",
            "-----------\n",
            "-Benign\n",
            "*Banign\n",
            "-----------\n",
            "-Malignant\n",
            "*Melignant\n",
            "-----------\n",
            "-Malignant\n",
            "*Melignant\n",
            "-----------\n",
            "-Malignant\n",
            "*Melignant\n",
            "-----------\n",
            "-Benign\n",
            "*Banign\n",
            "-----------\n",
            "-Benign\n",
            "*Banign\n",
            "-----------\n",
            "-Malignant\n",
            "*Melignant\n",
            "-----------\n",
            "-Benign\n",
            "*Banign\n",
            "-----------\n",
            "-Malignant\n",
            "*Banign\n",
            "-----------\n",
            "-Benign\n",
            "*Banign\n",
            "-----------\n",
            "-Benign\n",
            "*Banign\n",
            "-----------\n",
            "-Benign\n",
            "*Banign\n",
            "-----------\n",
            "-Malignant\n",
            "*Melignant\n",
            "-----------\n",
            "-Malignant\n",
            "*Melignant\n",
            "-----------\n",
            "-Benign\n",
            "*Banign\n",
            "-----------\n",
            "-Benign\n",
            "*Banign\n",
            "-----------\n",
            "-Benign\n",
            "*Banign\n",
            "-----------\n",
            "-Benign\n",
            "*Banign\n",
            "-----------\n",
            "-Benign\n",
            "*Banign\n",
            "-----------\n",
            "-Benign\n",
            "*Banign\n",
            "-----------\n",
            "-Benign\n",
            "*Banign\n",
            "-----------\n",
            "-Malignant\n",
            "*Melignant\n",
            "-----------\n",
            "-Malignant\n",
            "*Melignant\n",
            "-----------\n"
          ]
        }
      ]
    }
  ]
}